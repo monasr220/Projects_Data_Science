{
 "cells": [
  {
   "cell_type": "code",
   "execution_count": 1,
   "id": "793f8acf",
   "metadata": {},
   "outputs": [],
   "source": [
    "import cv2\n",
    "import imutils\n",
    "import numpy as np\n",
    "import argparse\n"
   ]
  },
  {
   "cell_type": "code",
   "execution_count": 2,
   "id": "2ea909db",
   "metadata": {},
   "outputs": [],
   "source": [
    "\n",
    "HOGCV = cv2.HOGDescriptor()\n",
    "HOGCV.setSVMDetector(cv2.HOGDescriptor_getDefaultPeopleDetector())"
   ]
  },
  {
   "cell_type": "code",
   "execution_count": 4,
   "id": "2f09db60",
   "metadata": {},
   "outputs": [],
   "source": [
    "def detect(frame):\n",
    "    bounding_box_cordinates , weights = HOGCV.detectMultiScale(frame , winStride = (4 ,4 ) , padding = (8 ,8) , scale = 1.03)\n",
    "    person = 1\n",
    "    for x , y , w, h in bounding_box_cordinates:\n",
    "        cv2.rectangle(frame , (x ,y) , (x+ w , y+ h) , (0 ,255 , 0) , 2)\n",
    "        cv2.putText(frame , f'person {person}' , (x ,y) , cv2.FONT_HERSHY_SIMPLEX , 0.5 , ( 0,0 , 255) , 1)\n",
    "        person +=1\n",
    "    cv2.putText(frame , 'Status : Detecting'  , (40 , 40) , cv2.FONT_HERSHEY_DUPLEX , 0.8 , (255 ,0 , 0) ,2 )\n",
    "    cv2.putText(frame , f'Total Persons : {person-1}' , (40 ,70) , cv2.FONT_HERSHEY_DUPLEX , 0.8 , (255  , 0  , 0) , 2)\n",
    "    cv2.imshow('output' , frame)\n",
    "    \n",
    "    return frame"
   ]
  },
  {
   "cell_type": "code",
   "execution_count": null,
   "id": "79b437fb",
   "metadata": {},
   "outputs": [],
   "source": [
    "def humanDetector(args):\n",
    "    image_path = args[\"image\"]\n",
    "    video_path = args['video']\n",
    "    if str(args[\"camera\"]) == 'true' :camera = True \n",
    "    else : camera = False\n",
    "    \n",
    "    writer = None\n",
    "    if args['output'] is not None and image_path is None:\n",
    "        writer = cv2.VideoWriter(args['output'] ,cv2.VideoWriter_fourcc(10 , (600  ,600)))\n",
    "    \n",
    "    if camera:\n",
    "        print('[INFO] Opening web Cam..')\n",
    "    elif video_path is not None:\n",
    "        print('[INFO] Opening Video..')\n",
    "    elif image_path is not None :\n",
    "        print('[INFO] Opening Image..')\n",
    "        detectByPathImage(image_path , args['output'])\n"
   ]
  },
  {
   "cell_type": "code",
   "execution_count": 10,
   "id": "ab7de748",
   "metadata": {},
   "outputs": [],
   "source": [
    "def detectByCamera(writer):\n",
    "    video = cv2.VideoCapture(0)\n",
    "    print('Detecting people..')\n",
    "    \n",
    "    while True:\n",
    "        check , frame = video.read()\n",
    "        \n",
    "        frame =detect(frame)\n",
    "        if writer is not None:\n",
    "            writer.write(frame)\n",
    "        \n",
    "        \n",
    "        key = cv2.waitKey(1)\n",
    "        if key == ord('q'):\n",
    "            break\n",
    "        \n",
    "    video.release()\n",
    "    cv2.destroyAllWindows()"
   ]
  },
  {
   "cell_type": "code",
   "execution_count": 14,
   "id": "3c4ed36c",
   "metadata": {},
   "outputs": [],
   "source": [
    "def detectByPathVideo(path , writer ):\n",
    "    \n",
    "    video = cv2.VideoCapture(path)\n",
    "    check , frame = video.read()\n",
    "    if check == False :\n",
    "        print('Video Not found . Please Enter a Valid Path')\n",
    "        return\n",
    "    \n",
    "    print('Detecting people...')\n",
    "    while video.isOpend():\n",
    "        check  , frame  =video,read()\n",
    "        \n",
    "        if check :\n",
    "            frame = imutils,resize(frame , width = min(800 , frame.shape[1]))\n",
    "            frame = detec(frame)\n",
    "            \n",
    "            if writer is not None:\n",
    "                writer.write(frame)\n",
    "            key  = cv2.waitKey(1)\n",
    "            if key == ord('q'):\n",
    "                break\n",
    "        else:\n",
    "            break\n",
    "    video.release()\n",
    "    cv2.destroyAllWindows()\n",
    "def detecByCamera(writer):\n",
    "    video = cv2.VideoCapture(0)\n",
    "    print('Detection people...')\n",
    "    while True:\n",
    "        check , frame=  video.read()\n",
    "        \n",
    "        frame  =detec(frame)\n",
    "        if writer is not None:\n",
    "            writer.write(frame)\n",
    "\n",
    "        key = cv2.waitKey(1)\n",
    "        if key == ord('q'):\n",
    "            break    \n",
    "    video.release()\n",
    "    cv2.destroyAllWindows()"
   ]
  },
  {
   "cell_type": "code",
   "execution_count": 15,
   "id": "f5bbae09",
   "metadata": {},
   "outputs": [],
   "source": [
    "def detectByPathImage(path, output_path):\n",
    "    image = cv2.imread(path)\n",
    "    image = imutils.resize(image, width = min(800, image.shape[1])) \n",
    "    result_image = detect(image)\n",
    "    if output_path is not None:\n",
    "        cv2.imwrite(output_path, result_image)\n",
    "    cv2.waitKey(0)\n",
    "    cv2.destroyAllWindows()"
   ]
  },
  {
   "cell_type": "code",
   "execution_count": 16,
   "id": "050fed67",
   "metadata": {},
   "outputs": [],
   "source": [
    "def argsParser():\n",
    "    arg_parse = argparse.ArgumentParser()\n",
    "    arg_parse.add_argument(\"-v\", \"--video\", default=None, help=\"path to Video File \")\n",
    "    arg_parse.add_argument(\"-i\", \"--image\", default=None, help=\"path to Image File \")\n",
    "    arg_parse.add_argument(\"-c\", \"--camera\", default=False, help=\"Set true if you want to use the camera.\")\n",
    "    arg_parse.add_argument(\"-o\", \"--output\", type=str, help=\"path to optional output video file\")\n",
    "    args = vars(arg_parse.parse_args())\n",
    "\n",
    "    return args"
   ]
  },
  {
   "cell_type": "code",
   "execution_count": 17,
   "id": "070e9da9",
   "metadata": {},
   "outputs": [
    {
     "name": "stderr",
     "output_type": "stream",
     "text": [
      "usage: ipykernel_launcher.py [-h] [-v VIDEO] [-i IMAGE] [-c CAMERA]\n",
      "                             [-o OUTPUT]\n",
      "ipykernel_launcher.py: error: unrecognized arguments: --f=c:\\Users\\Gnaa\\AppData\\Roaming\\jupyter\\runtime\\kernel-v3c15126a56414aa328033cba3d44ff25c512f05d7.json\n"
     ]
    },
    {
     "ename": "SystemExit",
     "evalue": "2",
     "output_type": "error",
     "traceback": [
      "An exception has occurred, use %tb to see the full traceback.\n",
      "\u001b[1;31mSystemExit\u001b[0m\u001b[1;31m:\u001b[0m 2\n"
     ]
    },
    {
     "name": "stderr",
     "output_type": "stream",
     "text": [
      "C:\\Users\\Gnaa\\AppData\\Roaming\\Python\\Python313\\site-packages\\IPython\\core\\interactiveshell.py:3585: UserWarning: To exit: use 'exit', 'quit', or Ctrl-D.\n",
      "  warn(\"To exit: use 'exit', 'quit', or Ctrl-D.\", stacklevel=1)\n"
     ]
    }
   ],
   "source": [
    "if __name__ == \"__main__\":\n",
    "    HOGCV = cv2.HOGDescriptor()\n",
    "    HOGCV.setSVMDetector(cv2.HOGDescriptor_getDefaultPeopleDetector())\n",
    "\n",
    "    args = argsParser()\n",
    "    humanDetector(args)"
   ]
  }
 ],
 "metadata": {
  "kernelspec": {
   "display_name": "Python 3",
   "language": "python",
   "name": "python3"
  },
  "language_info": {
   "codemirror_mode": {
    "name": "ipython",
    "version": 3
   },
   "file_extension": ".py",
   "mimetype": "text/x-python",
   "name": "python",
   "nbconvert_exporter": "python",
   "pygments_lexer": "ipython3",
   "version": "3.13.1"
  }
 },
 "nbformat": 4,
 "nbformat_minor": 5
}
